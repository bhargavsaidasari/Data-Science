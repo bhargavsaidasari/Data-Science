{
 "cells": [
  {
   "cell_type": "code",
   "execution_count": 34,
   "metadata": {},
   "outputs": [],
   "source": [
    "import pandas as pd\n",
    "import numpy as np"
   ]
  },
  {
   "cell_type": "markdown",
   "metadata": {},
   "source": [
    "## Load Data"
   ]
  },
  {
   "cell_type": "code",
   "execution_count": 4,
   "metadata": {},
   "outputs": [
    {
     "data": {
      "text/html": [
       "<div>\n",
       "<style scoped>\n",
       "    .dataframe tbody tr th:only-of-type {\n",
       "        vertical-align: middle;\n",
       "    }\n",
       "\n",
       "    .dataframe tbody tr th {\n",
       "        vertical-align: top;\n",
       "    }\n",
       "\n",
       "    .dataframe thead th {\n",
       "        text-align: right;\n",
       "    }\n",
       "</style>\n",
       "<table border=\"1\" class=\"dataframe\">\n",
       "  <thead>\n",
       "    <tr style=\"text-align: right;\">\n",
       "      <th></th>\n",
       "      <th>id</th>\n",
       "      <th>user_id</th>\n",
       "      <th>user_state</th>\n",
       "      <th>user_sign_up_date</th>\n",
       "      <th>song_played</th>\n",
       "      <th>time_played</th>\n",
       "    </tr>\n",
       "  </thead>\n",
       "  <tbody>\n",
       "    <tr>\n",
       "      <td>0</td>\n",
       "      <td>GOQMMKSQQH</td>\n",
       "      <td>122</td>\n",
       "      <td>Louisiana</td>\n",
       "      <td>2015-05-16</td>\n",
       "      <td>Hey Jude</td>\n",
       "      <td>2015-06-11 21:51:35</td>\n",
       "    </tr>\n",
       "    <tr>\n",
       "      <td>1</td>\n",
       "      <td>HWKKBQKNWI</td>\n",
       "      <td>3</td>\n",
       "      <td>Ohio</td>\n",
       "      <td>2015-05-01</td>\n",
       "      <td>We Can Work It Out</td>\n",
       "      <td>2015-06-06 16:49:19</td>\n",
       "    </tr>\n",
       "    <tr>\n",
       "      <td>2</td>\n",
       "      <td>DKQSXVNJDH</td>\n",
       "      <td>35</td>\n",
       "      <td>New Jersey</td>\n",
       "      <td>2015-05-04</td>\n",
       "      <td>Back In the U.S.S.R.</td>\n",
       "      <td>2015-06-14 02:11:29</td>\n",
       "    </tr>\n",
       "    <tr>\n",
       "      <td>3</td>\n",
       "      <td>HLHRIDQTUW</td>\n",
       "      <td>126</td>\n",
       "      <td>Illinois</td>\n",
       "      <td>2015-05-16</td>\n",
       "      <td>P.s. I Love You</td>\n",
       "      <td>2015-06-08 12:26:10</td>\n",
       "    </tr>\n",
       "    <tr>\n",
       "      <td>4</td>\n",
       "      <td>SUKJCSBCYW</td>\n",
       "      <td>6</td>\n",
       "      <td>New Jersey</td>\n",
       "      <td>2015-05-01</td>\n",
       "      <td>Sgt. Pepper's Lonely Hearts Club Band</td>\n",
       "      <td>2015-06-28 14:57:00</td>\n",
       "    </tr>\n",
       "  </tbody>\n",
       "</table>\n",
       "</div>"
      ],
      "text/plain": [
       "           id  user_id  user_state user_sign_up_date  \\\n",
       "0  GOQMMKSQQH      122   Louisiana        2015-05-16   \n",
       "1  HWKKBQKNWI        3        Ohio        2015-05-01   \n",
       "2  DKQSXVNJDH       35  New Jersey        2015-05-04   \n",
       "3  HLHRIDQTUW      126    Illinois        2015-05-16   \n",
       "4  SUKJCSBCYW        6  New Jersey        2015-05-01   \n",
       "\n",
       "                             song_played          time_played  \n",
       "0                               Hey Jude  2015-06-11 21:51:35  \n",
       "1                     We Can Work It Out  2015-06-06 16:49:19  \n",
       "2                   Back In the U.S.S.R.  2015-06-14 02:11:29  \n",
       "3                        P.s. I Love You  2015-06-08 12:26:10  \n",
       "4  Sgt. Pepper's Lonely Hearts Club Band  2015-06-28 14:57:00  "
      ]
     },
     "execution_count": 4,
     "metadata": {},
     "output_type": "execute_result"
    }
   ],
   "source": [
    "song_data = pd.read_json('song.json')\n",
    "song_data.head()"
   ]
  },
  {
   "cell_type": "markdown",
   "metadata": {},
   "source": [
    "## Question-1\n",
    "### Top 3 and bottom 3 states in terms of number of users"
   ]
  },
  {
   "cell_type": "code",
   "execution_count": 24,
   "metadata": {},
   "outputs": [],
   "source": [
    "user_state_info = song_data.groupby(\"user_state\").user_id.nunique()\n",
    "user_state_info = user_state_info.sort_values()"
   ]
  },
  {
   "cell_type": "markdown",
   "metadata": {},
   "source": [
    "#### Bottom 3 states"
   ]
  },
  {
   "cell_type": "code",
   "execution_count": 30,
   "metadata": {},
   "outputs": [
    {
     "data": {
      "text/plain": [
       "user_state\n",
       "Arizona        1\n",
       "New Mexico     1\n",
       "Connecticut    1\n",
       "Name: user_id, dtype: int64"
      ]
     },
     "execution_count": 30,
     "metadata": {},
     "output_type": "execute_result"
    }
   ],
   "source": [
    "user_state_info.iloc[:3]"
   ]
  },
  {
   "cell_type": "markdown",
   "metadata": {},
   "source": [
    "#### Top 3 states"
   ]
  },
  {
   "cell_type": "code",
   "execution_count": 31,
   "metadata": {},
   "outputs": [
    {
     "data": {
      "text/plain": [
       "user_state\n",
       "Texas         15\n",
       "California    21\n",
       "New York      23\n",
       "Name: user_id, dtype: int64"
      ]
     },
     "execution_count": 31,
     "metadata": {},
     "output_type": "execute_result"
    }
   ],
   "source": [
    "user_state_info.iloc[-3:]"
   ]
  },
  {
   "cell_type": "markdown",
   "metadata": {},
   "source": [
    "## Question-2"
   ]
  },
  {
   "cell_type": "markdown",
   "metadata": {},
   "source": [
    "#### User Engagement defined as the number of songs played by user"
   ]
  },
  {
   "cell_type": "code",
   "execution_count": 41,
   "metadata": {},
   "outputs": [],
   "source": [
    "engagement = song_data.groupby(\"user_state\").user_id.agg(lambda ids: len(ids))\n",
    "engagement.sort_values(inplace=True, ascending=True)"
   ]
  },
  {
   "cell_type": "markdown",
   "metadata": {},
   "source": [
    "### Bottom 3 states in terms of engagement"
   ]
  },
  {
   "cell_type": "code",
   "execution_count": 42,
   "metadata": {},
   "outputs": [
    {
     "data": {
      "text/plain": [
       "user_state\n",
       "Kansas          8\n",
       "Connecticut    16\n",
       "New Mexico     17\n",
       "Name: user_id, dtype: int64"
      ]
     },
     "execution_count": 42,
     "metadata": {},
     "output_type": "execute_result"
    }
   ],
   "source": [
    "engagement.iloc[:3]"
   ]
  },
  {
   "cell_type": "markdown",
   "metadata": {},
   "source": [
    "#### Top 3 states in terms of engagement"
   ]
  },
  {
   "cell_type": "code",
   "execution_count": 44,
   "metadata": {},
   "outputs": [
    {
     "data": {
      "text/plain": [
       "user_state\n",
       "Texas         230\n",
       "California    425\n",
       "New York      469\n",
       "Name: user_id, dtype: int64"
      ]
     },
     "execution_count": 44,
     "metadata": {},
     "output_type": "execute_result"
    }
   ],
   "source": [
    "engagement.iloc[-3:]"
   ]
  },
  {
   "cell_type": "markdown",
   "metadata": {},
   "source": [
    "## Question 3\n",
    "#### First user who signed up from each state"
   ]
  },
  {
   "cell_type": "code",
   "execution_count": 54,
   "metadata": {},
   "outputs": [
    {
     "name": "stderr",
     "output_type": "stream",
     "text": [
      "/home/bhargav/anaconda3/lib/python3.7/site-packages/ipykernel_launcher.py:2: FutureWarning: \n",
      "The current behaviour of 'Series.argmin' is deprecated, use 'idxmin'\n",
      "instead.\n",
      "The behavior of 'argmin' will be corrected to return the positional\n",
      "minimum in the future. For now, use 'series.values.argmin' or\n",
      "'np.argmin(np.array(values))' to get the position of the minimum\n",
      "row.\n",
      "  \n"
     ]
    },
    {
     "data": {
      "text/plain": [
       "user_state\n",
       "Alabama           VYGDSSQBJY\n",
       "Alaska            LYZJSGOGMT\n",
       "Arizona           NQIOZURYLR\n",
       "Arkansas          PYMWQEHYAR\n",
       "California        VGMSPYIOVD\n",
       "Colorado          RVYFCTFVSR\n",
       "Connecticut       GFEOXBDCXQ\n",
       "Florida           TCPQTLEFBY\n",
       "Georgia           DRQEXFLVUJ\n",
       "Idaho             EIODCPYXVZ\n",
       "Illinois          SJYWDAFPTE\n",
       "Indiana           CVDVDPRXBP\n",
       "Iowa              AMKXQNEPVP\n",
       "Kansas            LZBFURNTYG\n",
       "Kentucky          GKAVROKGKZ\n",
       "Louisiana         DMTICHBHIX\n",
       "Maryland          RJBVBECGEB\n",
       "Massachusetts     YEYEFEGHSB\n",
       "Michigan          FUZEXNGIIH\n",
       "Minnesota         AUAUMQGGTG\n",
       "Mississippi       GHDIMXUHCU\n",
       "Missouri          RJAXELQHQP\n",
       "Nebraska          NFBYEAOIQD\n",
       "New Jersey        SUKJCSBCYW\n",
       "New Mexico        FJHZSNVNSM\n",
       "New York          YCBBAYWXZW\n",
       "North Carolina    THXIUMICEM\n",
       "North Dakota      XTLRIRSLYF\n",
       "Ohio              HWKKBQKNWI\n",
       "Oklahoma          NWTWIRGPTP\n",
       "Oregon            ECUPTRAWWI\n",
       "Pennsylvania      FDYRTNRNLB\n",
       "Rhode Island      HZICITYVPP\n",
       "South Carolina    ZKBGWMSCET\n",
       "Tennessee         USXRGICTMD\n",
       "Texas             ZVHOZGEFNM\n",
       "Utah              UINYCALDNQ\n",
       "Virginia          QALBLUYOAK\n",
       "Washington        CDZFTVKYOY\n",
       "West Virginia     TRCUEBCIXG\n",
       "Wisconsin         PPVYJFTQNO\n",
       "dtype: object"
      ]
     },
     "execution_count": 54,
     "metadata": {},
     "output_type": "execute_result"
    }
   ],
   "source": [
    "def find_first_user(df):\n",
    "    idx = pd.to_datetime(df['user_sign_up_date']).argmin()\n",
    "    return(df.loc[idx, 'id'])\n",
    "song_data.groupby('user_state').apply(find_first_user)"
   ]
  },
  {
   "cell_type": "markdown",
   "metadata": {},
   "source": [
    "## Question-4\n",
    "#### Build a basic recommendation engine"
   ]
  }
 ],
 "metadata": {
  "kernelspec": {
   "display_name": "Python 3",
   "language": "python",
   "name": "python3"
  },
  "language_info": {
   "codemirror_mode": {
    "name": "ipython",
    "version": 3
   },
   "file_extension": ".py",
   "mimetype": "text/x-python",
   "name": "python",
   "nbconvert_exporter": "python",
   "pygments_lexer": "ipython3",
   "version": "3.7.4"
  }
 },
 "nbformat": 4,
 "nbformat_minor": 2
}
